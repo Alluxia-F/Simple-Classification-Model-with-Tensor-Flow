{
 "cells": [
  {
   "cell_type": "markdown",
   "metadata": {},
   "source": [
    "This is an example of how to do classification on a simple data in TensorFlow. Basically we are building a simple model helping a frined to choose a house to buy.\n"
   ]
  },
  {
   "cell_type": "code",
   "execution_count": 61,
   "metadata": {
    "collapsed": true
   },
   "outputs": [],
   "source": [
    "%matplotlib inline\n",
    "%config IPCompleter.greedy=True\n",
    "import pandas as pd\n",
    "import numpy as np\n",
    "import matplotlib.pyplot as plt\n",
    "import tensorflow as tf"
   ]
  },
  {
   "cell_type": "code",
   "execution_count": 62,
   "metadata": {},
   "outputs": [
    {
     "name": "stdout",
     "output_type": "stream",
     "text": [
      "   index    area  bathrooms     price    sq_price\n",
      "0      0  2104.0        3.0  399900.0  190.066540\n",
      "1      1  1600.0        3.0  329900.0  206.187500\n",
      "2      2  2400.0        3.0  369000.0  153.750000\n",
      "3      3  1416.0        2.0  232000.0  163.841808\n",
      "4      4  3000.0        4.0  539900.0  179.966667\n",
      "\n",
      "           index         area  bathrooms          price    sq_price\n",
      "count  47.000000    47.000000  47.000000      47.000000   47.000000\n",
      "mean   23.000000  2000.680851   3.170213  340412.659574  175.259506\n",
      "std    13.711309   794.702354   0.760982  125039.899586   37.929278\n",
      "min     0.000000   852.000000   1.000000  169900.000000  113.727721\n",
      "25%    11.500000  1432.000000   3.000000  249900.000000  151.258519\n",
      "50%    23.000000  1888.000000   3.000000  299900.000000  169.900000\n",
      "75%    34.500000  2269.000000   4.000000  384450.000000  196.616621\n",
      "max    46.000000  4478.000000   5.000000  699900.000000  318.587106\n",
      "\n",
      "   index    area  bathrooms\n",
      "0      0  2104.0        3.0\n",
      "1      1  1600.0        3.0\n",
      "2      2  2400.0        3.0\n",
      "3      3  1416.0        2.0\n",
      "4      4  3000.0        4.0\n",
      "5      5  1985.0        4.0\n",
      "6      6  1534.0        3.0\n",
      "7      7  1427.0        3.0\n",
      "8      8  1380.0        3.0\n",
      "9      9  1494.0        3.0\n"
     ]
    }
   ],
   "source": [
    "# load the house data CSV file.\n",
    "dataframe=pd.read_csv('data.csv')\n",
    "print(dataframe.head())\n",
    "print ()\n",
    "print(dataframe.describe())\n",
    "\n",
    "# remove the columns we don't care\n",
    "dataframe=dataframe.drop(['price','sq_price'],axis=1)\n",
    "\n",
    "# only use 10 rows of the dataset\n",
    "dataframe=dataframe[:10]\n",
    "print()\n",
    "print(dataframe)"
   ]
  },
  {
   "cell_type": "code",
   "execution_count": 63,
   "metadata": {},
   "outputs": [
    {
     "data": {
      "text/html": [
       "<div>\n",
       "<table border=\"1\" class=\"dataframe\">\n",
       "  <thead>\n",
       "    <tr style=\"text-align: right;\">\n",
       "      <th></th>\n",
       "      <th>index</th>\n",
       "      <th>area</th>\n",
       "      <th>bathrooms</th>\n",
       "      <th>y1</th>\n",
       "      <th>y2</th>\n",
       "    </tr>\n",
       "  </thead>\n",
       "  <tbody>\n",
       "    <tr>\n",
       "      <th>0</th>\n",
       "      <td>0</td>\n",
       "      <td>2104.0</td>\n",
       "      <td>3.0</td>\n",
       "      <td>1</td>\n",
       "      <td>0</td>\n",
       "    </tr>\n",
       "    <tr>\n",
       "      <th>1</th>\n",
       "      <td>1</td>\n",
       "      <td>1600.0</td>\n",
       "      <td>3.0</td>\n",
       "      <td>1</td>\n",
       "      <td>0</td>\n",
       "    </tr>\n",
       "    <tr>\n",
       "      <th>2</th>\n",
       "      <td>2</td>\n",
       "      <td>2400.0</td>\n",
       "      <td>3.0</td>\n",
       "      <td>1</td>\n",
       "      <td>0</td>\n",
       "    </tr>\n",
       "    <tr>\n",
       "      <th>3</th>\n",
       "      <td>3</td>\n",
       "      <td>1416.0</td>\n",
       "      <td>2.0</td>\n",
       "      <td>0</td>\n",
       "      <td>1</td>\n",
       "    </tr>\n",
       "    <tr>\n",
       "      <th>4</th>\n",
       "      <td>4</td>\n",
       "      <td>3000.0</td>\n",
       "      <td>4.0</td>\n",
       "      <td>0</td>\n",
       "      <td>1</td>\n",
       "    </tr>\n",
       "    <tr>\n",
       "      <th>5</th>\n",
       "      <td>5</td>\n",
       "      <td>1985.0</td>\n",
       "      <td>4.0</td>\n",
       "      <td>1</td>\n",
       "      <td>0</td>\n",
       "    </tr>\n",
       "    <tr>\n",
       "      <th>6</th>\n",
       "      <td>6</td>\n",
       "      <td>1534.0</td>\n",
       "      <td>3.0</td>\n",
       "      <td>0</td>\n",
       "      <td>1</td>\n",
       "    </tr>\n",
       "    <tr>\n",
       "      <th>7</th>\n",
       "      <td>7</td>\n",
       "      <td>1427.0</td>\n",
       "      <td>3.0</td>\n",
       "      <td>1</td>\n",
       "      <td>0</td>\n",
       "    </tr>\n",
       "    <tr>\n",
       "      <th>8</th>\n",
       "      <td>8</td>\n",
       "      <td>1380.0</td>\n",
       "      <td>3.0</td>\n",
       "      <td>1</td>\n",
       "      <td>0</td>\n",
       "    </tr>\n",
       "    <tr>\n",
       "      <th>9</th>\n",
       "      <td>9</td>\n",
       "      <td>1494.0</td>\n",
       "      <td>3.0</td>\n",
       "      <td>1</td>\n",
       "      <td>0</td>\n",
       "    </tr>\n",
       "  </tbody>\n",
       "</table>\n",
       "</div>"
      ],
      "text/plain": [
       "   index    area  bathrooms  y1  y2\n",
       "0      0  2104.0        3.0   1   0\n",
       "1      1  1600.0        3.0   1   0\n",
       "2      2  2400.0        3.0   1   0\n",
       "3      3  1416.0        2.0   0   1\n",
       "4      4  3000.0        4.0   0   1\n",
       "5      5  1985.0        4.0   1   0\n",
       "6      6  1534.0        3.0   0   1\n",
       "7      7  1427.0        3.0   1   0\n",
       "8      8  1380.0        3.0   1   0\n",
       "9      9  1494.0        3.0   1   0"
      ]
     },
     "execution_count": 63,
     "metadata": {},
     "output_type": "execute_result"
    }
   ],
   "source": [
    "# introduce the labels\n",
    "dataframe['y1']=[1,1,1,0,0,1,0,1,1,1]\n",
    "dataframe['y2']=dataframe['y1']==0\n",
    "dataframe['y2']=dataframe['y2'].astype(int)\n",
    "dataframe\n"
   ]
  },
  {
   "cell_type": "code",
   "execution_count": 64,
   "metadata": {},
   "outputs": [
    {
     "name": "stdout",
     "output_type": "stream",
     "text": [
      "[[  2.10400000e+03   3.00000000e+00]\n",
      " [  1.60000000e+03   3.00000000e+00]\n",
      " [  2.40000000e+03   3.00000000e+00]\n",
      " [  1.41600000e+03   2.00000000e+00]\n",
      " [  3.00000000e+03   4.00000000e+00]\n",
      " [  1.98500000e+03   4.00000000e+00]\n",
      " [  1.53400000e+03   3.00000000e+00]\n",
      " [  1.42700000e+03   3.00000000e+00]\n",
      " [  1.38000000e+03   3.00000000e+00]\n",
      " [  1.49400000e+03   3.00000000e+00]]\n",
      "[[1 0]\n",
      " [1 0]\n",
      " [1 0]\n",
      " [0 1]\n",
      " [0 1]\n",
      " [1 0]\n",
      " [0 1]\n",
      " [1 0]\n",
      " [1 0]\n",
      " [1 0]]\n"
     ]
    }
   ],
   "source": [
    "# shape the data into matrices to feed it to TensorFlow\n",
    "inputX=dataframe.loc[:,['area','bathrooms']].as_matrix()\n",
    "inputY=dataframe.loc[:,['y1','y2']].as_matrix()\n",
    "print(inputX)\n",
    "print(inputY)\n"
   ]
  },
  {
   "cell_type": "code",
   "execution_count": 65,
   "metadata": {},
   "outputs": [],
   "source": [
    "# Set the paramters for the training process\n",
    "learning_rate=0.000001\n",
    "training_epochs=2000\n",
    "display_step=50\n",
    "n_samples=inputY.size"
   ]
  },
  {
   "cell_type": "code",
   "execution_count": 66,
   "metadata": {},
   "outputs": [],
   "source": [
    "# Define the TensorFlow operations\n",
    "x=tf.placeholder(tf.float32,[None,2])\n",
    "W=tf.Variable(tf.zeros([2,2]))\n",
    "b=tf.Variable(tf.zeros([2]))\n",
    "\n",
    "y_values=tf.add(tf.matmul(x,W),b)\n",
    "# Use softmax as an 'activation functuon'\n",
    "y=tf.nn.softmax(y_values)\n",
    "\n",
    "y_=tf.placeholder(tf.float32,[None,2])"
   ]
  },
  {
   "cell_type": "code",
   "execution_count": 67,
   "metadata": {},
   "outputs": [],
   "source": [
    "# Cost function: Mean Square Erroe\n",
    "cost=tf.reduce_sum(tf.pow(y_-y,2))/(2*n_samples)\n",
    "# Set up optimizer\n",
    "optimizer=tf.train.GradientDescentOptimizer(learning_rate).minimize(cost)"
   ]
  },
  {
   "cell_type": "code",
   "execution_count": 70,
   "metadata": {},
   "outputs": [],
   "source": [
    "# Initialize variables ans tensorflow session\n",
    "init=tf.global_variables_initializer()\n",
    "sess=tf.Session()\n",
    "sess.run(init)"
   ]
  },
  {
   "cell_type": "code",
   "execution_count": 72,
   "metadata": {},
   "outputs": [
    {
     "name": "stdout",
     "output_type": "stream",
     "text": [
      "Training steps: 0000 cost= 0.114958666\n",
      "Training steps: 0050 cost= 0.109539941\n",
      "Training steps: 0100 cost= 0.109539866\n",
      "Training steps: 0150 cost= 0.109539807\n",
      "Training steps: 0200 cost= 0.109539732\n",
      "Training steps: 0250 cost= 0.109539673\n",
      "Training steps: 0300 cost= 0.109539606\n",
      "Training steps: 0350 cost= 0.109539531\n",
      "Training steps: 0400 cost= 0.109539464\n",
      "Training steps: 0450 cost= 0.109539405\n",
      "Training steps: 0500 cost= 0.109539315\n",
      "Training steps: 0550 cost= 0.109539248\n",
      "Training steps: 0600 cost= 0.109539196\n",
      "Training steps: 0650 cost= 0.109539129\n",
      "Training steps: 0700 cost= 0.109539054\n",
      "Training steps: 0750 cost= 0.109538987\n",
      "Training steps: 0800 cost= 0.109538913\n",
      "Training steps: 0850 cost= 0.109538853\n",
      "Training steps: 0900 cost= 0.109538779\n",
      "Training steps: 0950 cost= 0.109538712\n",
      "Training steps: 1000 cost= 0.109538652\n",
      "Training steps: 1050 cost= 0.109538577\n",
      "Training steps: 1100 cost= 0.109538510\n",
      "Training steps: 1150 cost= 0.109538436\n",
      "Training steps: 1200 cost= 0.109538361\n",
      "Training steps: 1250 cost= 0.109538302\n",
      "Training steps: 1300 cost= 0.109538235\n",
      "Training steps: 1350 cost= 0.109538175\n",
      "Training steps: 1400 cost= 0.109538101\n",
      "Training steps: 1450 cost= 0.109538034\n",
      "Training steps: 1500 cost= 0.109537959\n",
      "Training steps: 1550 cost= 0.109537885\n",
      "Training steps: 1600 cost= 0.109537825\n",
      "Training steps: 1650 cost= 0.109537765\n",
      "Training steps: 1700 cost= 0.109537683\n",
      "Training steps: 1750 cost= 0.109537624\n",
      "Training steps: 1800 cost= 0.109537557\n",
      "Training steps: 1850 cost= 0.109537482\n",
      "Training steps: 1900 cost= 0.109537408\n",
      "Training steps: 1950 cost= 0.109537348\n",
      "Optimization finished!\n",
      "Training cost= 0.109537 W= [[  2.14149564e-04  -2.14149914e-04]\n",
      " [  5.12748193e-05  -5.12747974e-05]] b= [  1.19155184e-05  -1.19155284e-05] \n",
      "\n"
     ]
    }
   ],
   "source": [
    "# Train the model\n",
    "for i in range(training_epochs):\n",
    "    sess.run(optimizer,feed_dict={x:inputX,y_:inputY})\n",
    "    \n",
    "    # display logs per epoch step\n",
    "    if (i)%display_step==0:\n",
    "        cc=sess.run(cost,feed_dict={x:inputX,y_:inputY})\n",
    "        print('Training steps:','%04d' %(i),'cost=','{:.9f}'.format(cc))\n",
    "\n",
    "print('Optimization finished!')\n",
    "training_cost=sess.run(cost,feed_dict={x:inputX,y_:inputY})\n",
    "print('Training cost=',training_cost,'W=',sess.run(W),'b=',sess.run(b),'\\n')\n"
   ]
  },
  {
   "cell_type": "code",
   "execution_count": 73,
   "metadata": {},
   "outputs": [
    {
     "data": {
      "text/plain": [
       "array([[ 0.71125221,  0.28874779],\n",
       "       [ 0.66498977,  0.33501023],\n",
       "       [ 0.73657656,  0.26342347],\n",
       "       [ 0.64718789,  0.35281211],\n",
       "       [ 0.78335613,  0.2166439 ],\n",
       "       [ 0.70069474,  0.29930523],\n",
       "       [ 0.65866327,  0.34133676],\n",
       "       [ 0.64828628,  0.35171372],\n",
       "       [ 0.64368278,  0.35631716],\n",
       "       [ 0.65480113,  0.3451989 ]], dtype=float32)"
      ]
     },
     "execution_count": 73,
     "metadata": {},
     "output_type": "execute_result"
    }
   ],
   "source": [
    "# Predict to see if our friend will like the house \n",
    "sess.run(y,feed_dict={x:inputX})\n"
   ]
  },
  {
   "cell_type": "markdown",
   "metadata": {},
   "source": [
    "It seems all of 10 houses are worth to buy. That makes it get 7/10 correct. Not a terrible impressive. A model with a hidden layer should do better."
   ]
  }
 ],
 "metadata": {
  "kernelspec": {
   "display_name": "Python 3",
   "language": "python",
   "name": "python3"
  },
  "language_info": {
   "codemirror_mode": {
    "name": "ipython",
    "version": 3
   },
   "file_extension": ".py",
   "mimetype": "text/x-python",
   "name": "python",
   "nbconvert_exporter": "python",
   "pygments_lexer": "ipython3",
   "version": "3.5.3"
  }
 },
 "nbformat": 4,
 "nbformat_minor": 2
}
